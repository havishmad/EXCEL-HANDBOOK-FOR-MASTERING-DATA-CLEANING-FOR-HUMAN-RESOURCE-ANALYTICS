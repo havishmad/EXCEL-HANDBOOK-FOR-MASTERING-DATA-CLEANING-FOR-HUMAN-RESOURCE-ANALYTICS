{
  "nbformat": 4,
  "nbformat_minor": 0,
  "metadata": {
    "colab": {
      "provenance": []
    },
    "kernelspec": {
      "name": "python3",
      "display_name": "Python 3"
    },
    "language_info": {
      "name": "python"
    }
  },
  "cells": [
    {
      "cell_type": "code",
      "execution_count": 3,
      "metadata": {
        "colab": {
          "base_uri": "https://localhost:8080/",
          "height": 17
        },
        "id": "pHQ3uHlItnS7",
        "outputId": "c07b6a5f-eb68-47ee-9a76-72bf95562b75"
      },
      "outputs": [
        {
          "output_type": "display_data",
          "data": {
            "text/plain": [
              "<IPython.core.display.Javascript object>"
            ],
            "application/javascript": [
              "\n",
              "    async function download(id, filename, size) {\n",
              "      if (!google.colab.kernel.accessAllowed) {\n",
              "        return;\n",
              "      }\n",
              "      const div = document.createElement('div');\n",
              "      const label = document.createElement('label');\n",
              "      label.textContent = `Downloading \"${filename}\": `;\n",
              "      div.appendChild(label);\n",
              "      const progress = document.createElement('progress');\n",
              "      progress.max = size;\n",
              "      div.appendChild(progress);\n",
              "      document.body.appendChild(div);\n",
              "\n",
              "      const buffers = [];\n",
              "      let downloaded = 0;\n",
              "\n",
              "      const channel = await google.colab.kernel.comms.open(id);\n",
              "      // Send a message to notify the kernel that we're ready.\n",
              "      channel.send({})\n",
              "\n",
              "      for await (const message of channel.messages) {\n",
              "        // Send a message to notify the kernel that we're ready.\n",
              "        channel.send({})\n",
              "        if (message.buffers) {\n",
              "          for (const buffer of message.buffers) {\n",
              "            buffers.push(buffer);\n",
              "            downloaded += buffer.byteLength;\n",
              "            progress.value = downloaded;\n",
              "          }\n",
              "        }\n",
              "      }\n",
              "      const blob = new Blob(buffers, {type: 'application/binary'});\n",
              "      const a = document.createElement('a');\n",
              "      a.href = window.URL.createObjectURL(blob);\n",
              "      a.download = filename;\n",
              "      div.appendChild(a);\n",
              "      a.click();\n",
              "      div.remove();\n",
              "    }\n",
              "  "
            ]
          },
          "metadata": {}
        },
        {
          "output_type": "display_data",
          "data": {
            "text/plain": [
              "<IPython.core.display.Javascript object>"
            ],
            "application/javascript": [
              "download(\"download_b1b1186f-81b1-4515-b9c1-04eb25e44eb7\", \"employee_dataset.csv\", 24283)"
            ]
          },
          "metadata": {}
        }
      ],
      "source": [
        "import pandas as pd\n",
        "import numpy as np\n",
        "from faker import Faker\n",
        "import random\n",
        "\n",
        "# Initialize Faker\n",
        "fake = Faker()\n",
        "\n",
        "# Set random seed for reproducibility\n",
        "np.random.seed(42)\n",
        "random.seed(42)\n",
        "\n",
        "# Define departments\n",
        "departments = [\"HR\", \"Finance\", \"IT\", \"Marketing\", \"Sales\", \"Operations\", \"Engineering\", \"Customer Support\"]\n",
        "\n",
        "# Define salary ranges by department\n",
        "salary_ranges = {\n",
        "    \"HR\": (40000, 80000),\n",
        "    \"Finance\": (50000, 120000),\n",
        "    \"IT\": (60000, 150000),\n",
        "    \"Marketing\": (45000, 110000),\n",
        "    \"Sales\": (35000, 100000),\n",
        "    \"Operations\": (40000, 90000),\n",
        "    \"Engineering\": (70000, 160000),\n",
        "    \"Customer Support\": (30000, 70000),\n",
        "}\n",
        "\n",
        "# Generate dataset\n",
        "employee_data = []\n",
        "for emp_id in range(1, 501):\n",
        "    name = fake.name()\n",
        "    department = random.choice(departments)\n",
        "    salary = random.randint(*salary_ranges[department])\n",
        "    date_of_joining = fake.date_between(start_date='-10y', end_date='today')\n",
        "    performance_rating = round(np.random.normal(3.5, 1), 1)  # Normal distribution with mean 3.5 and std dev 1\n",
        "    performance_rating = min(max(performance_rating, 1), 5)  # Ensure ratings are between 1 and 5\n",
        "\n",
        "    employee_data.append([emp_id, name, department, salary, date_of_joining, performance_rating])\n",
        "\n",
        "# Create DataFrame\n",
        "df_employees = pd.DataFrame(employee_data, columns=[\"Employee ID\", \"Name\", \"Department\", \"Salary\", \"Date of Joining\", \"Performance Rating\"])\n",
        "\n",
        "# Save to CSV in Google Colab\n",
        "df_employees.to_csv(\"employee_dataset.csv\", index=False)\n",
        "\n",
        "# Display first few rows\n",
        "df_employees.head()\n",
        "\n",
        "# Download the file\n",
        "from google.colab import files\n",
        "files.download(\"employee_dataset.csv\")\n"
      ]
    },
    {
      "cell_type": "code",
      "source": [
        "!pip install prophet\n",
        "\n",
        "import yfinance as yf\n",
        "import pandas as pd\n",
        "import matplotlib.pyplot as plt\n",
        "from prophet import Prophet\n",
        "\n",
        "# Fetch Tata Motors stock data (NSE) for the last 3 years\n",
        "ticker = \"TATAMOTORS.NS\"\n",
        "stock_data = yf.download(ticker, period=\"3y\")\n",
        "\n",
        "# Prepare data for Prophet (ds = date, y = open price)\n",
        "df = stock_data[['Open']].reset_index()\n",
        "df.rename(columns={'Date': 'ds', 'Open': 'y'}, inplace=True)\n",
        "\n",
        "# Initialize Prophet model\n",
        "model = Prophet()\n",
        "model.fit(df)\n",
        "\n",
        "# Create a dataframe for future dates (1 year ahead)\n",
        "future = model.make_future_dataframe(periods=365)\n",
        "\n",
        "# Generate Forecast\n",
        "forecast = model.predict(future)\n",
        "\n",
        "# Plot the forecast\n",
        "plt.figure(figsize=(12, 6))\n",
        "plt.plot(df['ds'], df['y'], label='Actual Open Price', color='blue', linewidth=2)\n",
        "plt.plot(forecast['ds'], forecast['yhat'], label='Forecasted Open Price', color='red', linestyle='dashed')\n",
        "plt.fill_between(forecast['ds'], forecast['yhat_lower'], forecast['yhat_upper'], color='pink', alpha=0.3)\n",
        "plt.title('Tata Motors NSE - 1 Year Forecast of Open Prices')\n",
        "plt.xlabel('Date')\n",
        "plt.ylabel('Open Price (INR)')\n",
        "plt.legend()\n",
        "plt.grid(True)\n",
        "plt.show()\n"
      ],
      "metadata": {
        "id": "7x4es6QguArF",
        "outputId": "ad526376-d3eb-436e-bdf8-bbde051923c4",
        "colab": {
          "base_uri": "https://localhost:8080/"
        }
      },
      "execution_count": null,
      "outputs": [
        {
          "output_type": "stream",
          "name": "stdout",
          "text": [
            "Requirement already satisfied: prophet in /usr/local/lib/python3.11/dist-packages (1.1.6)\n",
            "Requirement already satisfied: cmdstanpy>=1.0.4 in /usr/local/lib/python3.11/dist-packages (from prophet) (1.2.5)\n",
            "Requirement already satisfied: numpy>=1.15.4 in /usr/local/lib/python3.11/dist-packages (from prophet) (1.26.4)\n",
            "Requirement already satisfied: matplotlib>=2.0.0 in /usr/local/lib/python3.11/dist-packages (from prophet) (3.10.0)\n",
            "Requirement already satisfied: pandas>=1.0.4 in /usr/local/lib/python3.11/dist-packages (from prophet) (2.2.2)\n",
            "Requirement already satisfied: holidays<1,>=0.25 in /usr/local/lib/python3.11/dist-packages (from prophet) (0.68)\n",
            "Requirement already satisfied: tqdm>=4.36.1 in /usr/local/lib/python3.11/dist-packages (from prophet) (4.67.1)\n",
            "Requirement already satisfied: importlib-resources in /usr/local/lib/python3.11/dist-packages (from prophet) (6.5.2)\n",
            "Requirement already satisfied: stanio<2.0.0,>=0.4.0 in /usr/local/lib/python3.11/dist-packages (from cmdstanpy>=1.0.4->prophet) (0.5.1)\n",
            "Requirement already satisfied: python-dateutil in /usr/local/lib/python3.11/dist-packages (from holidays<1,>=0.25->prophet) (2.8.2)\n",
            "Requirement already satisfied: contourpy>=1.0.1 in /usr/local/lib/python3.11/dist-packages (from matplotlib>=2.0.0->prophet) (1.3.1)\n",
            "Requirement already satisfied: cycler>=0.10 in /usr/local/lib/python3.11/dist-packages (from matplotlib>=2.0.0->prophet) (0.12.1)\n",
            "Requirement already satisfied: fonttools>=4.22.0 in /usr/local/lib/python3.11/dist-packages (from matplotlib>=2.0.0->prophet) (4.56.0)\n",
            "Requirement already satisfied: kiwisolver>=1.3.1 in /usr/local/lib/python3.11/dist-packages (from matplotlib>=2.0.0->prophet) (1.4.8)\n",
            "Requirement already satisfied: packaging>=20.0 in /usr/local/lib/python3.11/dist-packages (from matplotlib>=2.0.0->prophet) (24.2)\n",
            "Requirement already satisfied: pillow>=8 in /usr/local/lib/python3.11/dist-packages (from matplotlib>=2.0.0->prophet) (11.1.0)\n",
            "Requirement already satisfied: pyparsing>=2.3.1 in /usr/local/lib/python3.11/dist-packages (from matplotlib>=2.0.0->prophet) (3.2.1)\n",
            "Requirement already satisfied: pytz>=2020.1 in /usr/local/lib/python3.11/dist-packages (from pandas>=1.0.4->prophet) (2025.1)\n",
            "Requirement already satisfied: tzdata>=2022.7 in /usr/local/lib/python3.11/dist-packages (from pandas>=1.0.4->prophet) (2025.1)\n",
            "Requirement already satisfied: six>=1.5 in /usr/local/lib/python3.11/dist-packages (from python-dateutil->holidays<1,>=0.25->prophet) (1.17.0)\n"
          ]
        }
      ]
    }
  ]
}